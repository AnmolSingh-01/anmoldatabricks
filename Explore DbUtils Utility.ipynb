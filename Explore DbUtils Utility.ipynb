dbutils.secrets.help()

'''

Provides utilities for leveraging secrets within notebooks. Databricks documentation for more info.
get(scope: String, key: String): String -> Gets the string representation of a secret value with scope and key
getBytes(scope: String, key: String): byte[] -> Gets the bytes representation of a secret value with scope and key
list(scope: String): Seq -> Lists secret metadata for secrets within a scope
listScopes: Seq -> Lists secret scopes

'''
dbutils.secrets.listScopes()

'''
[SecretScope(name='anmolsecretscope')]

'''
dbutils.secrets.list('anmolsecretscope')

'''
[SecretMetadata(key='sapphirestorageak2accountkey')]

'''
dbutils.secrets.get('anmolsecretscope','sapphirestorageak2accountkey')

'''
'[REDACTED]'
'''
